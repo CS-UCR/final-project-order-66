{
 "cells": [
  {
   "cell_type": "markdown",
   "metadata": {},
   "source": [
    "# Phase 3 Data Analysis"
   ]
  },
  {
   "cell_type": "markdown",
   "metadata": {},
   "source": [
    "This file is an extension of the Phase 2 Data Cleaning. In this file, we combine what we have from Phase 2 and our hypothesis in order to draw some prediction/conlusion based on the dataset and our observation."
   ]
  },
  {
   "cell_type": "markdown",
   "metadata": {},
   "source": [
    "##############################################################################################################################################################################################################"
   ]
  },
  {
   "cell_type": "markdown",
   "metadata": {},
   "source": [
    "# business"
   ]
  },
  {
   "cell_type": "markdown",
   "metadata": {},
   "source": [
    "#### - First lets convert the business jason file into a dataframe so we can start the cleaning process"
   ]
  },
  {
   "cell_type": "code",
   "execution_count": 1,
   "metadata": {},
   "outputs": [
    {
     "ename": "FileNotFoundError",
     "evalue": "[Errno 2] No such file or directory: 'yelp_academic_dataset_business.json'",
     "output_type": "error",
     "traceback": [
      "\u001b[0;31m---------------------------------------------------------------------------\u001b[0m",
      "\u001b[0;31mFileNotFoundError\u001b[0m                         Traceback (most recent call last)",
      "\u001b[0;32m<ipython-input-1-88e6d95d3f25>\u001b[0m in \u001b[0;36m<module>\u001b[0;34m\u001b[0m\n\u001b[1;32m      1\u001b[0m \u001b[0;32mimport\u001b[0m \u001b[0mpandas\u001b[0m \u001b[0;32mas\u001b[0m \u001b[0mpd\u001b[0m\u001b[0;34m\u001b[0m\u001b[0;34m\u001b[0m\u001b[0m\n\u001b[1;32m      2\u001b[0m \u001b[0;32mimport\u001b[0m \u001b[0mjson\u001b[0m\u001b[0;34m\u001b[0m\u001b[0;34m\u001b[0m\u001b[0m\n\u001b[0;32m----> 3\u001b[0;31m \u001b[0mbusiness\u001b[0m \u001b[0;34m=\u001b[0m \u001b[0;34m[\u001b[0m\u001b[0mjson\u001b[0m\u001b[0;34m.\u001b[0m\u001b[0mloads\u001b[0m\u001b[0;34m(\u001b[0m\u001b[0mline\u001b[0m\u001b[0;34m)\u001b[0m \u001b[0;32mfor\u001b[0m \u001b[0mline\u001b[0m \u001b[0;32min\u001b[0m \u001b[0mopen\u001b[0m\u001b[0;34m(\u001b[0m\u001b[0;34m'yelp_academic_dataset_business.json'\u001b[0m\u001b[0;34m,\u001b[0m \u001b[0;34m'r'\u001b[0m\u001b[0;34m)\u001b[0m\u001b[0;34m]\u001b[0m     \u001b[0;31m# create a dictionary to read in the json objects of the tip file\u001b[0m\u001b[0;34m\u001b[0m\u001b[0;34m\u001b[0m\u001b[0m\n\u001b[0m",
      "\u001b[0;31mFileNotFoundError\u001b[0m: [Errno 2] No such file or directory: 'yelp_academic_dataset_business.json'"
     ]
    }
   ],
   "source": [
    "import pandas as pd\n",
    "import json\n",
    "business = [json.loads(line) for line in open('yelp_academic_dataset_business.json', 'r')]     # create a dictionary to read in the json objects of the tip file"
   ]
  },
  {
   "cell_type": "code",
   "execution_count": null,
   "metadata": {},
   "outputs": [],
   "source": [
    "business_df = pd.json_normalize (business)"
   ]
  },
  {
   "cell_type": "markdown",
   "metadata": {},
   "source": [
    "#### - After converting the json file to a dataframe and print the first 5 entries, we can see that there are columns that we wont need for our purpose. We also encountered another problem, the business file has all type of business and we are only interested in restaurants. One column that will help us is the \"categories\" column, lets print the first 20 items in our data to check the results."
   ]
  },
  {
   "cell_type": "markdown",
   "metadata": {},
   "source": [
    "#### - What we can see is that \"categories\" encloses key words describing each business. Since there is no more information that we can use to find if a business is a restaurant, we will find if \"food\" or \"restaurant\" is in the \"categories\" column and filter the results"
   ]
  },
  {
   "cell_type": "code",
   "execution_count": null,
   "metadata": {},
   "outputs": [],
   "source": [
    "all_restaurants_df = business_df[business_df['categories'].str.contains(\"food\") | business_df['categories'].str.contains(\"Food\") | business_df['categories'].str.contains('Restaurant') | business_df['categories'].str.contains('restaurant')] "
   ]
  },
  {
   "cell_type": "markdown",
   "metadata": {},
   "source": [
    "### Now, after the filter we ended with a database of 80,505 restaurants. One other thing that we need to do is to delete the columns that we wont use, like the attributes. What we can do is to redo the dataframe again, but this time without copying all the attribute columns"
   ]
  },
  {
   "cell_type": "code",
   "execution_count": null,
   "metadata": {},
   "outputs": [],
   "source": [
    "all_restaurants_df =  all_restaurants_df[['business_id', 'name', 'address', 'city', 'state', 'postal_code', 'stars','review_count','is_open','categories','hours']]\n",
    "all_restaurants_df.set_index('name', inplace= True)\n",
    "all_restaurants_df.reset_index(inplace=True)"
   ]
  },
  {
   "cell_type": "markdown",
   "metadata": {},
   "source": [
    "#### We also need to filter the dataset by countries, since the file contains business from USA and Canada. "
   ]
  },
  {
   "cell_type": "code",
   "execution_count": null,
   "metadata": {},
   "outputs": [],
   "source": [
    "all_restaurants_df.state.describe()  #to know how many different states do we have in the data"
   ]
  },
  {
   "cell_type": "markdown",
   "metadata": {},
   "source": [
    "#### Our data has these estates by country:\n",
    "#### USA: AZ, NV, OH, NC, PA, WI, IL, SC, NY, TX, CO\n",
    "#### Canada: ON, QC, AB, BC\n",
    "#### England: XWY, HPL\n",
    "#### Now we proceed to create two new datasets separated by country for our purposes."
   ]
  },
  {
   "cell_type": "code",
   "execution_count": null,
   "metadata": {},
   "outputs": [],
   "source": [
    "#Filter the data by canadian restaurants only\n",
    "canada_restaurants_df=all_restaurants_df[all_restaurants_df['state'].str.contains(\"ON\") | all_restaurants_df['state'].str.contains(\"QC\") | all_restaurants_df['state'].str.contains(\"AB\") | all_restaurants_df['state'].str.contains('BC')]\n",
    "canada_restaurants_df.reset_index(inplace=True)"
   ]
  },
  {
   "cell_type": "code",
   "execution_count": null,
   "metadata": {},
   "outputs": [],
   "source": [
    "#Filter the data by canadian restaurants only\n",
    "usa_restaurants_df=all_restaurants_df[all_restaurants_df['state'].str.contains(\"AZ\") | all_restaurants_df['state'].str.contains(\"CO\") | all_restaurants_df['state'].str.contains(\"TX\") | all_restaurants_df['state'].str.contains(\"NY\") | all_restaurants_df['state'].str.contains(\"SC\") | all_restaurants_df['state'].str.contains(\"IL\") | all_restaurants_df['state'].str.contains(\"WI\") | all_restaurants_df['state'].str.contains(\"PA\") | all_restaurants_df['state'].str.contains(\"NV\") | all_restaurants_df['state'].str.contains(\"OH\") | all_restaurants_df['state'].str.contains('NC')]\n",
    "usa_restaurants_df.reset_index(inplace=True)"
   ]
  },
  {
   "cell_type": "markdown",
   "metadata": {},
   "source": [
    "## RATES BY STATE"
   ]
  },
  {
   "cell_type": "markdown",
   "metadata": {},
   "source": [
    "#### Now, we need to create two tables to show how the ratings are distributed in each state by country, and graph these. "
   ]
  },
  {
   "cell_type": "code",
   "execution_count": null,
   "metadata": {},
   "outputs": [],
   "source": [
    "ratevsstateCA=pd.pivot_table(canada_restaurants_df,index=[\"state\"],columns=\"stars\",values=[\"name\"], aggfunc=\"count\",fill_value=0)\n",
    "print(ratevsstateCA)\n",
    "ratevsstateCA.loc[['AB','ON','QC']].plot.bar(title=\"Rates by state in Canada\", fontsize='20', figsize=(30,10))"
   ]
  },
  {
   "cell_type": "code",
   "execution_count": null,
   "metadata": {},
   "outputs": [],
   "source": [
    "ratevsstateUSA=pd.pivot_table(usa_restaurants_df,index=[\"state\"],columns=\"stars\",values=\"name\", aggfunc=\"count\", fill_value=0 )\n",
    "print (ratevsstateUSA)\n",
    "ratevsstateUSA.loc[['AZ','IL', 'NC', 'NV','OH','PA','SC','WI']].plot.bar(title=\"Rates by state in USA\", fontsize='20', figsize=(30,10))"
   ]
  },
  {
   "cell_type": "markdown",
   "metadata": {},
   "source": [
    "### After checking both graphs, we can come up with some observations, like we can see that the most used rating in USA is 4.0 in every state, while in Canada is 3.5. Do this mean that the people in Canada is a little bit more critique? Or that the restaurants in USA provide better service? We will need to make a deeper analysis in phase 3 of the project to prove or disapprove these points.  "
   ]
  },
  {
   "cell_type": "markdown",
   "metadata": {},
   "source": [
    "## Hamburguer vs Poutine"
   ]
  },
  {
   "cell_type": "markdown",
   "metadata": {},
   "source": [
    "#### One other thing that we want to analyze is the relation between USA and restaurants that sell hamburguers and Canada with Putine. Since these are the traditional foods for each country, we want to check if these are some of the most popular restaurants based in the number of restaurants and the ratings. "
   ]
  },
  {
   "cell_type": "code",
   "execution_count": null,
   "metadata": {},
   "outputs": [],
   "source": [
    "import re\n",
    "import matplotlib.pyplot as plt\n",
    "burgersUSA= usa_restaurants_df[\"categories\"].str.count(\"burger\", re.I).sum()\n",
    "burgersUSA= burgersUSA/len(usa_restaurants_df)  #divide by the total number of restaurants in \n",
    "#print (burgersUSA)\n",
    "poutineCA= canada_restaurants_df[\"categories\"].str.count(\"poutine\", re.I).sum()\n",
    "poutineCA=poutineCA/len(canada_restaurants_df) #divide by the total number of restaurants in canada\n",
    "#print (poutineCA)\n",
    "newgraph = [burgersUSA, poutineCA]\n",
    "plt.bar([\"Hamburger in USA\", \"Poutine in Canada\"], newgraph)\n",
    "plt.title('Hamburger vs Poutine')\n",
    "plt.ylabel('Restaurants ratio')\n",
    "plt.show()"
   ]
  },
  {
   "cell_type": "markdown",
   "metadata": {},
   "source": [
    "#### What we can see from this graph is that the ratio of restaurants that sells burgers in USA is way bigger that the ratio of restaurants that sell poutine in Canada. Since its not common to find restaurants that sell poutine in USA, we can check only how is te ratio in Canada between Hamburgers and Poutin. "
   ]
  },
  {
   "cell_type": "code",
   "execution_count": null,
   "metadata": {},
   "outputs": [],
   "source": [
    "burgersCA= canada_restaurants_df[\"categories\"].str.count(\"burger\", re.I).sum()\n",
    "burgersCA= burgersCA/len(canada_restaurants_df)  #divide by the total number of restaurants in \n",
    "newgraph = [burgersCA, poutineCA]\n",
    "plt.bar([\"Hamburger\", \"Poutine\"], newgraph)\n",
    "plt.title('Hamburger vs Poutine in Canada')\n",
    "plt.ylabel('Restaurants ratio')\n",
    "plt.show()"
   ]
  },
  {
   "cell_type": "markdown",
   "metadata": {},
   "source": [
    "#### What we can see in this last graph is that even in Canada hamburgers are more frequent in restaurants than the traditional food \"poutine\". The total ratio for hamburgers in Canada is just slightly different from the ratio in USA, therefore apparently hamburgers are found in Canada in a similar proportion than in the USA. "
   ]
  },
  {
   "cell_type": "markdown",
   "metadata": {},
   "source": [
    "#########################################################################################################################################################################################################################"
   ]
  },
  {
   "cell_type": "markdown",
   "metadata": {},
   "source": [
    "## Offfical Phase 3 starts from here"
   ]
  },
  {
   "cell_type": "code",
   "execution_count": null,
   "metadata": {},
   "outputs": [],
   "source": []
  },
  {
   "cell_type": "code",
   "execution_count": null,
   "metadata": {},
   "outputs": [],
   "source": []
  }
 ],
 "metadata": {
  "kernelspec": {
   "display_name": "Python 3",
   "language": "python",
   "name": "python3"
  },
  "language_info": {
   "codemirror_mode": {
    "name": "ipython",
    "version": 3
   },
   "file_extension": ".py",
   "mimetype": "text/x-python",
   "name": "python",
   "nbconvert_exporter": "python",
   "pygments_lexer": "ipython3",
   "version": "3.6.8"
  }
 },
 "nbformat": 4,
 "nbformat_minor": 4
}
