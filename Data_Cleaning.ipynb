{
 "cells": [
  {
   "cell_type": "markdown",
   "metadata": {},
   "source": [
    "# Phase 2 Data Cleaning"
   ]
  },
  {
   "cell_type": "markdown",
   "metadata": {},
   "source": [
    "In this file, we proceed to clean up the dataset that we downloaded from Yelp. "
   ]
  },
  {
   "cell_type": "markdown",
   "metadata": {},
   "source": [
    "## tip.json"
   ]
  },
  {
   "cell_type": "code",
   "execution_count": 1,
   "metadata": {},
   "outputs": [
    {
     "name": "stdout",
     "output_type": "stream",
     "text": [
      "{'user_id': 'hf27xTME3EiCp6NL6VtWZQ', 'business_id': 'UYX5zL_Xj9WEc_Wp-FrqHw', 'text': 'Here for a quick mtg', 'date': '2013-11-26 18:20:08', 'compliment_count': 0}\n"
     ]
    }
   ],
   "source": [
    "import json\n",
    "tip = [json.loads(line) for line in open('tipTEST.json', 'r')]     # create a dictionary to read in the json objects of the tip file\n",
    "print (tip[0])                                                     # print out the first entry of the tip dataset for debugging purpose"
   ]
  },
  {
   "cell_type": "code",
   "execution_count": 2,
   "metadata": {},
   "outputs": [
    {
     "data": {
      "text/plain": [
       "dict_keys(['user_id', 'business_id', 'text', 'date', 'compliment_count'])"
      ]
     },
     "execution_count": 2,
     "metadata": {},
     "output_type": "execute_result"
    }
   ],
   "source": [
    "#print out the key term\n",
    "test = tip[0]\n",
    "test.keys()"
   ]
  },
  {
   "cell_type": "code",
   "execution_count": 3,
   "metadata": {},
   "outputs": [
    {
     "data": {
      "text/plain": [
       "dict_keys(['user_id', 'business_id', 'text', 'date', 'compliment_count'])"
      ]
     },
     "execution_count": 3,
     "metadata": {},
     "output_type": "execute_result"
    }
   ],
   "source": [
    "                                                                   #print out the key term\n",
    "test = tip[0]\n",
    "test.keys()"
   ]
  },
  {
   "cell_type": "code",
   "execution_count": 4,
   "metadata": {},
   "outputs": [],
   "source": [
    "#load the data into data frame in order to process and clean up\n",
    "import pandas as pd\n",
    "\n",
    "tip_df = pd.json_normalize (tip)\n"
   ]
  },
  {
   "cell_type": "markdown",
   "metadata": {},
   "source": [
    "Keys discription:\n",
    "\n",
    "    1. User id:: The id of the users who wrote the messages/tips. We do not need this. This key will be drop. \\\n",
    "    2. Business id: The id of the businesses. We need this key to tally with the businesses id we have from the business.json file later on. \\\n",
    "    3. Text: A short message of the tip. \\\n",
    "    4. Date: We do not need this key. This will be drop. \\\n",
    "    5. Compliment count: The number of times the businesses were praised/ given thumbs-up. "
   ]
  },
  {
   "cell_type": "code",
   "execution_count": 5,
   "metadata": {},
   "outputs": [
    {
     "data": {
      "text/html": [
       "<div>\n",
       "<style scoped>\n",
       "    .dataframe tbody tr th:only-of-type {\n",
       "        vertical-align: middle;\n",
       "    }\n",
       "\n",
       "    .dataframe tbody tr th {\n",
       "        vertical-align: top;\n",
       "    }\n",
       "\n",
       "    .dataframe thead th {\n",
       "        text-align: right;\n",
       "    }\n",
       "</style>\n",
       "<table border=\"1\" class=\"dataframe\">\n",
       "  <thead>\n",
       "    <tr style=\"text-align: right;\">\n",
       "      <th></th>\n",
       "      <th>user_id</th>\n",
       "      <th>business_id</th>\n",
       "      <th>text</th>\n",
       "      <th>date</th>\n",
       "      <th>compliment_count</th>\n",
       "    </tr>\n",
       "  </thead>\n",
       "  <tbody>\n",
       "    <tr>\n",
       "      <th>0</th>\n",
       "      <td>hf27xTME3EiCp6NL6VtWZQ</td>\n",
       "      <td>UYX5zL_Xj9WEc_Wp-FrqHw</td>\n",
       "      <td>Here for a quick mtg</td>\n",
       "      <td>2013-11-26 18:20:08</td>\n",
       "      <td>0</td>\n",
       "    </tr>\n",
       "    <tr>\n",
       "      <th>1</th>\n",
       "      <td>uEvusDwoSymbJJ0auR3muQ</td>\n",
       "      <td>Ch3HkwQYv1YKw_FO06vBWA</td>\n",
       "      <td>Cucumber strawberry refresher</td>\n",
       "      <td>2014-06-15 22:26:45</td>\n",
       "      <td>0</td>\n",
       "    </tr>\n",
       "    <tr>\n",
       "      <th>2</th>\n",
       "      <td>AY-laIws3S7YXNl_f_D6rQ</td>\n",
       "      <td>rDoT-MgxGRiYqCmi0bG10g</td>\n",
       "      <td>Very nice good service good food</td>\n",
       "      <td>2016-07-18 22:03:42</td>\n",
       "      <td>0</td>\n",
       "    </tr>\n",
       "    <tr>\n",
       "      <th>3</th>\n",
       "      <td>Ue_7yUlkEbX4AhnYdUfL7g</td>\n",
       "      <td>OHXnDV01gLokiX1ELaQufA</td>\n",
       "      <td>It's a small place. The staff is friendly.</td>\n",
       "      <td>2014-06-06 01:10:34</td>\n",
       "      <td>0</td>\n",
       "    </tr>\n",
       "    <tr>\n",
       "      <th>4</th>\n",
       "      <td>LltbT_fUMqZ-ZJP-vJ84IQ</td>\n",
       "      <td>GMrwDXRlAZU2zj5nH6l4vQ</td>\n",
       "      <td>8 sandwiches, $24 total...what a bargain!!! An...</td>\n",
       "      <td>2011-04-08 18:12:01</td>\n",
       "      <td>0</td>\n",
       "    </tr>\n",
       "  </tbody>\n",
       "</table>\n",
       "</div>"
      ],
      "text/plain": [
       "                  user_id             business_id  \\\n",
       "0  hf27xTME3EiCp6NL6VtWZQ  UYX5zL_Xj9WEc_Wp-FrqHw   \n",
       "1  uEvusDwoSymbJJ0auR3muQ  Ch3HkwQYv1YKw_FO06vBWA   \n",
       "2  AY-laIws3S7YXNl_f_D6rQ  rDoT-MgxGRiYqCmi0bG10g   \n",
       "3  Ue_7yUlkEbX4AhnYdUfL7g  OHXnDV01gLokiX1ELaQufA   \n",
       "4  LltbT_fUMqZ-ZJP-vJ84IQ  GMrwDXRlAZU2zj5nH6l4vQ   \n",
       "\n",
       "                                                text                 date  \\\n",
       "0                               Here for a quick mtg  2013-11-26 18:20:08   \n",
       "1                      Cucumber strawberry refresher  2014-06-15 22:26:45   \n",
       "2                   Very nice good service good food  2016-07-18 22:03:42   \n",
       "3         It's a small place. The staff is friendly.  2014-06-06 01:10:34   \n",
       "4  8 sandwiches, $24 total...what a bargain!!! An...  2011-04-08 18:12:01   \n",
       "\n",
       "   compliment_count  \n",
       "0                 0  \n",
       "1                 0  \n",
       "2                 0  \n",
       "3                 0  \n",
       "4                 0  "
      ]
     },
     "execution_count": 5,
     "metadata": {},
     "output_type": "execute_result"
    }
   ],
   "source": [
    "tip_df.head()                                                      # raw sample of the data set"
   ]
  },
  {
   "cell_type": "code",
   "execution_count": 6,
   "metadata": {},
   "outputs": [
    {
     "data": {
      "text/html": [
       "<div>\n",
       "<style scoped>\n",
       "    .dataframe tbody tr th:only-of-type {\n",
       "        vertical-align: middle;\n",
       "    }\n",
       "\n",
       "    .dataframe tbody tr th {\n",
       "        vertical-align: top;\n",
       "    }\n",
       "\n",
       "    .dataframe thead th {\n",
       "        text-align: right;\n",
       "    }\n",
       "</style>\n",
       "<table border=\"1\" class=\"dataframe\">\n",
       "  <thead>\n",
       "    <tr style=\"text-align: right;\">\n",
       "      <th></th>\n",
       "      <th>business_id</th>\n",
       "      <th>text</th>\n",
       "      <th>compliment_count</th>\n",
       "    </tr>\n",
       "  </thead>\n",
       "  <tbody>\n",
       "    <tr>\n",
       "      <th>0</th>\n",
       "      <td>UYX5zL_Xj9WEc_Wp-FrqHw</td>\n",
       "      <td>Here for a quick mtg</td>\n",
       "      <td>0</td>\n",
       "    </tr>\n",
       "    <tr>\n",
       "      <th>1</th>\n",
       "      <td>Ch3HkwQYv1YKw_FO06vBWA</td>\n",
       "      <td>Cucumber strawberry refresher</td>\n",
       "      <td>0</td>\n",
       "    </tr>\n",
       "    <tr>\n",
       "      <th>2</th>\n",
       "      <td>rDoT-MgxGRiYqCmi0bG10g</td>\n",
       "      <td>Very nice good service good food</td>\n",
       "      <td>0</td>\n",
       "    </tr>\n",
       "    <tr>\n",
       "      <th>3</th>\n",
       "      <td>OHXnDV01gLokiX1ELaQufA</td>\n",
       "      <td>It's a small place. The staff is friendly.</td>\n",
       "      <td>0</td>\n",
       "    </tr>\n",
       "    <tr>\n",
       "      <th>4</th>\n",
       "      <td>GMrwDXRlAZU2zj5nH6l4vQ</td>\n",
       "      <td>8 sandwiches, $24 total...what a bargain!!! An...</td>\n",
       "      <td>0</td>\n",
       "    </tr>\n",
       "  </tbody>\n",
       "</table>\n",
       "</div>"
      ],
      "text/plain": [
       "              business_id                                               text  \\\n",
       "0  UYX5zL_Xj9WEc_Wp-FrqHw                               Here for a quick mtg   \n",
       "1  Ch3HkwQYv1YKw_FO06vBWA                      Cucumber strawberry refresher   \n",
       "2  rDoT-MgxGRiYqCmi0bG10g                   Very nice good service good food   \n",
       "3  OHXnDV01gLokiX1ELaQufA         It's a small place. The staff is friendly.   \n",
       "4  GMrwDXRlAZU2zj5nH6l4vQ  8 sandwiches, $24 total...what a bargain!!! An...   \n",
       "\n",
       "   compliment_count  \n",
       "0                 0  \n",
       "1                 0  \n",
       "2                 0  \n",
       "3                 0  \n",
       "4                 0  "
      ]
     },
     "execution_count": 6,
     "metadata": {},
     "output_type": "execute_result"
    }
   ],
   "source": [
    "tip_df.drop(columns=['user_id','date'],inplace=True)             # drop irrelevant comlumns\n",
    "tip_df.head()"
   ]
  },
  {
   "cell_type": "code",
   "execution_count": 7,
   "metadata": {},
   "outputs": [
    {
     "data": {
      "text/plain": [
       "0    20838\n",
       "1      296\n",
       "2       18\n",
       "3        4\n",
       "5        1\n",
       "Name: compliment_count, dtype: int64"
      ]
     },
     "execution_count": 7,
     "metadata": {},
     "output_type": "execute_result"
    }
   ],
   "source": [
    "tip_df['compliment_count'].value_counts()"
   ]
  },
  {
   "cell_type": "markdown",
   "metadata": {},
   "source": [
    "From here on, eda"
   ]
  },
  {
   "cell_type": "markdown",
   "metadata": {},
   "source": [
    "## checkin.json"
   ]
  },
  {
   "cell_type": "code",
   "execution_count": null,
   "metadata": {},
   "outputs": [],
   "source": [
    "checkin = [json.loads(line) for line in open('checkinTEST.json', 'r')]     # create a dictionary to read in the json objects of the tip file\n",
    "print (checkin[0]) # print out the first entry of the tip dataset for debugging purpose"
   ]
  },
  {
   "cell_type": "code",
   "execution_count": null,
   "metadata": {},
   "outputs": [],
   "source": [
    "#print out the key term\n",
    "test = checkin[0]\n",
    "test.keys()"
   ]
  },
  {
   "cell_type": "code",
   "execution_count": null,
   "metadata": {},
   "outputs": [],
   "source": [
    "checkin_df = pd.json_normalize (checkin)"
   ]
  },
  {
   "cell_type": "code",
   "execution_count": null,
   "metadata": {},
   "outputs": [],
   "source": [
    "checkin_df.head()"
   ]
  },
  {
   "cell_type": "markdown",
   "metadata": {},
   "source": [
    "> Do we need this?"
   ]
  },
  {
   "cell_type": "markdown",
   "metadata": {},
   "source": [
    "## review.json"
   ]
  },
  {
   "cell_type": "code",
   "execution_count": null,
   "metadata": {},
   "outputs": [],
   "source": [
    "review = [json.loads(line) for line in open('ReviewTEST.json', 'r')]     # create a dictionary to read in the json objects of the tip file\n",
    "print (review[0]) # print out the first entry of the tip dataset for debugging purpose"
   ]
  },
  {
   "cell_type": "code",
   "execution_count": null,
   "metadata": {},
   "outputs": [],
   "source": [
    "print (review[1])"
   ]
  },
  {
   "cell_type": "code",
   "execution_count": null,
   "metadata": {},
   "outputs": [],
   "source": [
    "#print out the key term\n",
    "test = review[0]\n",
    "test.keys()"
   ]
  },
  {
   "cell_type": "code",
   "execution_count": null,
   "metadata": {},
   "outputs": [],
   "source": [
    "review_df = pd.json_normalize (review)"
   ]
  },
  {
   "cell_type": "code",
   "execution_count": null,
   "metadata": {},
   "outputs": [],
   "source": [
    "print(review_df.head(5))"
   ]
  },
  {
   "cell_type": "markdown",
   "metadata": {},
   "source": [
    "# business"
   ]
  },
  {
   "cell_type": "markdown",
   "metadata": {},
   "source": [
    "#### - First lets convert the business jason file into a dataframe so we can start the cleaning process"
   ]
  },
  {
   "cell_type": "code",
   "execution_count": null,
   "metadata": {},
   "outputs": [],
   "source": [
    "business = [json.loads(line) for line in open('businessTEST2.json', 'r')]     # create a dictionary to read in the json objects of the tip file\n",
    "print (business[0])"
   ]
  },
  {
   "cell_type": "code",
   "execution_count": null,
   "metadata": {},
   "outputs": [],
   "source": [
    "#print out the key term\n",
    "test = business[0]\n",
    "test.keys()"
   ]
  },
  {
   "cell_type": "code",
   "execution_count": null,
   "metadata": {},
   "outputs": [],
   "source": [
    "business_df = pd.json_normalize (business)"
   ]
  },
  {
   "cell_type": "code",
   "execution_count": null,
   "metadata": {},
   "outputs": [],
   "source": [
    "business_df"
   ]
  },
  {
   "cell_type": "code",
   "execution_count": null,
   "metadata": {},
   "outputs": [],
   "source": [
    "print(business_df.head(5))"
   ]
  },
  {
   "cell_type": "markdown",
   "metadata": {},
   "source": [
    "#### - After converting the json file to a dataframe and print the first 5 entries, we can see that there are columns that we would not need for our purpose. We also encountered another problem, the business file has all type of business and we are only interested in restaurants. One column that will help us is the \"categories\" column, lets print the first 20 items in our data to check the results."
   ]
  },
  {
   "cell_type": "code",
   "execution_count": null,
   "metadata": {},
   "outputs": [],
   "source": [
    "business_df[\"categories\"].head(20)"
   ]
  },
  {
   "cell_type": "markdown",
   "metadata": {},
   "source": [
    "#### - What we can see is that \"categories\" encloses key words describing each business. Since there is no more information that we can use to find if a business is a restaurant, we will find if \"food\" or \"restaurant\" is in the \"categories\" column and filter the results"
   ]
  },
  {
   "cell_type": "code",
   "execution_count": null,
   "metadata": {},
   "outputs": [],
   "source": [
    "all_restaurants_df = business_df[business_df['categories'].str.contains(\"food\") | business_df['categories'].str.contains(\"Food\") | business_df['categories'].str.contains('Restaurant') | business_df['categories'].str.contains('restaurant')] \n",
    "all_restaurants_df"
   ]
  },
  {
   "cell_type": "markdown",
   "metadata": {},
   "source": [
    "### Now, after the filter we ended with a database of 19,086 restaurants. One other thing that we need to do is to delete the columns that we wont use, like the attributes. What we can do is to redo the dataframe again, but this time without copying all the attribute columns"
   ]
  },
  {
   "cell_type": "code",
   "execution_count": null,
   "metadata": {},
   "outputs": [],
   "source": [
    "all_restaurants_df =  all_restaurants_df[['business_id', 'name', 'address', 'city', 'state', 'postal_code', 'stars','review_count','is_open','categories','hours']]\n",
    "all_restaurants_df.set_index('name', inplace= True)\n",
    "all_restaurants_df"
   ]
  },
  {
   "cell_type": "code",
   "execution_count": null,
   "metadata": {},
   "outputs": [],
   "source": [
    "all_restaurants_df.reset_index(inplace=True)\n",
    "all_restaurants_df"
   ]
  },
  {
   "cell_type": "code",
   "execution_count": null,
   "metadata": {},
   "outputs": [],
   "source": [
    "##delete this, was for testing purposes\n",
    "#all_restaurants_df.drop(['attributes.Music', 'attributes.BestNights','attributes.HairSpecializesIn','attributes.Smoking'], axis = 1) \n",
    "#all_restaurants_df.drop(['attributes.BYOB', 'attributes.Corkage', 'attributes.CoatCheck', 'attributes.BYOBCorkage','attributes.AgesAllowed'], axis = 1)\n",
    "#all_restaurants_df.drop(['attributes.attributes.BusinessAcceptsBitcoin', 'attributes.GoodForDancing', 'attributes.CoatCheck', 'attributes.BYOBCorkage','attributes.AgesAllowed'], axis = 1)"
   ]
  },
  {
   "cell_type": "code",
   "execution_count": null,
   "metadata": {},
   "outputs": [],
   "source": []
  },
  {
   "cell_type": "code",
   "execution_count": null,
   "metadata": {},
   "outputs": [],
   "source": []
  }
 ],
 "metadata": {
  "kernelspec": {
   "display_name": "Python 3",
   "language": "python",
   "name": "python3"
  },
  "language_info": {
   "codemirror_mode": {
    "name": "ipython",
    "version": 3
   },
   "file_extension": ".py",
   "mimetype": "text/x-python",
   "name": "python",
   "nbconvert_exporter": "python",
   "pygments_lexer": "ipython3",
   "version": "3.6.8"
  }
 },
 "nbformat": 4,
 "nbformat_minor": 4
}
